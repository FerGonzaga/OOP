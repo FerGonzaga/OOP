{
 "cells": [
  {
   "cell_type": "markdown",
   "metadata": {},
   "source": [
    "## Ejercicio 1 de OOP\n"
   ]
  },
  {
   "cell_type": "markdown",
   "metadata": {},
   "source": [
    "<img src=\"/Users/FerGonzaga/Downloads/Diagramas_clases/01_create_class.png\" alt=\"EX 1\" width=\"500\">\n"
   ]
  },
  {
   "cell_type": "code",
   "execution_count": 6,
   "metadata": {},
   "outputs": [],
   "source": [
    "class Employee:\n",
    "    new_id = 1\n",
    "\n",
    "    def __init__(self, name):\n",
    "        self.id = Employee.new_id\n",
    "        self.name = name\n",
    "        Employee.new_id += 1\n",
    "\n",
    "    def say_id(self):\n",
    "        print(f'Mi nombre es {self.name} y mi id es: {self.id}')\n"
   ]
  },
  {
   "cell_type": "code",
   "execution_count": 7,
   "metadata": {},
   "outputs": [
    {
     "name": "stdout",
     "output_type": "stream",
     "text": [
      "Mi nombre es Fernando Gonzaga y mi id es: 1\n",
      "Mi nombre es Melanie Santiago y mi id es: 2\n"
     ]
    }
   ],
   "source": [
    "Fernando_Gonzaga = Employee(\"Fernando Gonzaga\")\n",
    "Melanie_Santiago = Employee(\"Melanie Santiago\")\n",
    "\n",
    "Fernando_Gonzaga.say_id()\n",
    "Melanie_Santiago.say_id()"
   ]
  }
 ],
 "metadata": {
  "kernelspec": {
   "display_name": "Python 3",
   "language": "python",
   "name": "python3"
  },
  "language_info": {
   "codemirror_mode": {
    "name": "ipython",
    "version": 3
   },
   "file_extension": ".py",
   "mimetype": "text/x-python",
   "name": "python",
   "nbconvert_exporter": "python",
   "pygments_lexer": "ipython3",
   "version": "3.11.4"
  }
 },
 "nbformat": 4,
 "nbformat_minor": 2
}
