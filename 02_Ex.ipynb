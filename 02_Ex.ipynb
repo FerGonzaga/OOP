{
 "cells": [
  {
   "cell_type": "markdown",
   "metadata": {},
   "source": [
    "## Ejercicio 2 de OOP"
   ]
  },
  {
   "cell_type": "markdown",
   "metadata": {},
   "source": [
    "<img src=\"/Users/FerGonzaga/Downloads/Diagramas_clases/02_herencia.png\" alt=\"EX 1\" width=\"500\">"
   ]
  },
  {
   "cell_type": "code",
   "execution_count": 16,
   "metadata": {},
   "outputs": [],
   "source": [
    "class Animal:\n",
    "    def __init__(self, name):\n",
    "        self.name = name\n",
    "        \n",
    "    def say_name(self):\n",
    "        print(f'Mi nombre es {self.name}')\n",
    "        \n",
    "    def eat(self):\n",
    "        print(f'¡Yummy Yummy! Estoy comiendo')\n",
    "\n",
    "class Cat(Animal):\n",
    "    def meow(self):\n",
    "        print('Soy un gato y hago miau!')\n",
    "        \n",
    "class Dog(Animal):\n",
    "    def bark(self):\n",
    "        print('Soy un perro y hago guau!')"
   ]
  },
  {
   "cell_type": "code",
   "execution_count": 17,
   "metadata": {},
   "outputs": [
    {
     "name": "stdout",
     "output_type": "stream",
     "text": [
      "Mi nombre es Maya\n",
      "Soy un perro y hago guau!\n",
      "¡Yummy Yummy! Estoy comiendo\n",
      "Mi nombre es Nina\n",
      "Soy un gato y hago miau!\n",
      "¡Yummy Yummy! Estoy comiendo\n"
     ]
    }
   ],
   "source": [
    "Maya = Dog(\"Maya\")\n",
    "Maya.say_name()\n",
    "Maya.bark()\n",
    "Maya.eat()\n",
    "\n",
    "Nina = Cat(\"Nina\")\n",
    "Nina.say_name()\n",
    "Nina.meow()\n",
    "Nina.eat()"
   ]
  }
 ],
 "metadata": {
  "kernelspec": {
   "display_name": "Python 3",
   "language": "python",
   "name": "python3"
  },
  "language_info": {
   "codemirror_mode": {
    "name": "ipython",
    "version": 3
   },
   "file_extension": ".py",
   "mimetype": "text/x-python",
   "name": "python",
   "nbconvert_exporter": "python",
   "pygments_lexer": "ipython3",
   "version": "3.11.4"
  }
 },
 "nbformat": 4,
 "nbformat_minor": 2
}
