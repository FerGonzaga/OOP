{
 "cells": [
  {
   "cell_type": "markdown",
   "metadata": {},
   "source": [
    "## Ejercicio 3 de OPP"
   ]
  },
  {
   "cell_type": "markdown",
   "metadata": {},
   "source": [
    "<img src=\"/Users/FerGonzaga/Documents/Fer/Estr/1Tema/OOP/Diagramas_clases/03_herencia.png\" alt=\"EX 1\" width=\"500\">"
   ]
  },
  {
   "cell_type": "code",
   "execution_count": 13,
   "metadata": {},
   "outputs": [],
   "source": [
    "class Employee:\n",
    "    new_id = 1\n",
    "\n",
    "    def __init__(self):\n",
    "        self.id = Employee.new_id\n",
    "        Employee.new_id += 1\n",
    "\n",
    "    def say_id(self):\n",
    "        print(f'Mi id es: {self.id}')\n",
    "\n",
    "class Admin(Employee):\n",
    "    def say_id(self):\n",
    "        super().say_id()\n",
    "        print(f'Soy un administrador')\n",
    "        \n",
    "class Manager(Employee):\n",
    "    def say_id(self):\n",
    "        super().say_id()\n",
    "        print(f'Estoy a cargo')\n",
    "    "
   ]
  },
  {
   "cell_type": "code",
   "execution_count": 14,
   "metadata": {},
   "outputs": [
    {
     "name": "stdout",
     "output_type": "stream",
     "text": [
      "Mi id es: 1\n",
      "Mi id es: 2\n",
      "Soy un administrador\n",
      "Mi id es: 3\n",
      "Estoy a cargo\n"
     ]
    }
   ],
   "source": [
    "Fernando = Employee()\n",
    "Fernando.say_id()\n",
    "\n",
    "Melanie = Admin()\n",
    "Melanie.say_id()\n",
    "\n",
    "Andrea = Manager()\n",
    "Andrea.say_id()\n"
   ]
  },
  {
   "cell_type": "code",
   "execution_count": null,
   "metadata": {},
   "outputs": [],
   "source": []
  }
 ],
 "metadata": {
  "kernelspec": {
   "display_name": "Python 3",
   "language": "python",
   "name": "python3"
  },
  "language_info": {
   "codemirror_mode": {
    "name": "ipython",
    "version": 3
   },
   "file_extension": ".py",
   "mimetype": "text/x-python",
   "name": "python",
   "nbconvert_exporter": "python",
   "pygments_lexer": "ipython3",
   "version": "3.11.4"
  }
 },
 "nbformat": 4,
 "nbformat_minor": 2
}
