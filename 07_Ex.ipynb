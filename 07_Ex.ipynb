{
 "cells": [
  {
   "cell_type": "code",
   "execution_count": 20,
   "metadata": {},
   "outputs": [],
   "source": [
    "class Persona:\n",
    "    def __init__(self, nombre, nombres, apellidopaterno, apellidomaterno):\n",
    "        self.nombre = nombre.capitalize()\n",
    "        self.nombres = nombres.capitalize()\n",
    "        self.apellidopaterno = apellidopaterno.capitalize()\n",
    "        self.apellidomaterno = apellidomaterno.capitalize()\n",
    "\n",
    "    def soy(self):\n",
    "        print(f\"Mi nombre es {self.nombre} {self.nombres} {self.apellidopaterno} {self.apellidomaterno}\")\n"
   ]
  },
  {
   "cell_type": "code",
   "execution_count": 23,
   "metadata": {},
   "outputs": [
    {
     "name": "stdout",
     "output_type": "stream",
     "text": [
      "Mi nombre es Luis Fernando Gonzaga López\n",
      "Mi nombre es Melanie  Santiago Resendiz\n"
     ]
    }
   ],
   "source": [
    "Fernando = Persona(\"LuiS\", \"FernANDO\", \"Gonzaga\", \"LÓPEZ\")\n",
    "Fernando.soy()\n",
    "\n",
    "Melanie = Persona('Melanie', '', 'SANTIAGO', \"resenDIZ\")\n",
    "Melanie.soy()"
   ]
  },
  {
   "cell_type": "markdown",
   "metadata": {},
   "source": [
    "clase que pida apellidos y nombre por separado, construir un método que use la cadena y los datos puedan varias pero la cadena que regresa el método es un formateo para que la inicial sea mayuscula"
   ]
  },
  {
   "cell_type": "code",
   "execution_count": 27,
   "metadata": {},
   "outputs": [],
   "source": [
    "class Personaa:\n",
    "    def __init__(self, nombre, nombres, apellidopaterno, apellidomaterno):\n",
    "        self.nombre = nombre.capitalize()\n",
    "        self.nombres = nombres.capitalize()\n",
    "        self.apellidopaterno = apellidopaterno.capitalize()\n",
    "        self.apellidomaterno = apellidomaterno.capitalize()\n",
    "    \n",
    "    def __str__(self):\n",
    "        return f'Mi nombre es {self.nombre} {self.nombres} {self.apellidopaterno} {self.apellidomaterno}'\n",
    "\n"
   ]
  },
  {
   "cell_type": "code",
   "execution_count": null,
   "metadata": {},
   "outputs": [],
   "source": []
  }
 ],
 "metadata": {
  "kernelspec": {
   "display_name": "Python 3",
   "language": "python",
   "name": "python3"
  },
  "language_info": {
   "codemirror_mode": {
    "name": "ipython",
    "version": 3
   },
   "file_extension": ".py",
   "mimetype": "text/x-python",
   "name": "python",
   "nbconvert_exporter": "python",
   "pygments_lexer": "ipython3",
   "version": "3.11.4"
  }
 },
 "nbformat": 4,
 "nbformat_minor": 2
}
