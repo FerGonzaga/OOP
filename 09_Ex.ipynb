{
 "cells": [
  {
   "cell_type": "code",
   "execution_count": 38,
   "metadata": {},
   "outputs": [],
   "source": [
    "class Time:\n",
    "    def __init__(self, horas, minutos, segundos):\n",
    "        self.horas = horas\n",
    "        self.minutos = minutos\n",
    "        self.segundos = segundos\n",
    "\n",
    "    def total_seconds(self):\n",
    "        return f\"Un total de {self.horas * 3600 + self.minutos * 60 + self.segundos} segundos\"\n",
    "\n",
    "    def __str__(self):\n",
    "        return f\"{self.horas:02} : {self.minutos:02} : {self.segundos:02}\""
   ]
  },
  {
   "cell_type": "code",
   "execution_count": 39,
   "metadata": {},
   "outputs": [
    {
     "name": "stdout",
     "output_type": "stream",
     "text": [
      "02 : 10 : 03\n",
      "Un total de 7803 segundos\n",
      "16 : 33 : 11\n",
      "Un total de 59591 segundos\n"
     ]
    }
   ],
   "source": [
    "hora1 = Time(2, 10, 3)\n",
    "print(hora1.__str__())\n",
    "print(hora1.total_seconds())\n",
    "\n",
    "hora2 = Time(16, 33, 11)\n",
    "print(hora2.__str__())\n",
    "print(hora2.total_seconds())"
   ]
  }
 ],
 "metadata": {
  "kernelspec": {
   "display_name": "Python 3",
   "language": "python",
   "name": "python3"
  },
  "language_info": {
   "codemirror_mode": {
    "name": "ipython",
    "version": 3
   },
   "file_extension": ".py",
   "mimetype": "text/x-python",
   "name": "python",
   "nbconvert_exporter": "python",
   "pygments_lexer": "ipython3",
   "version": "3.11.4"
  }
 },
 "nbformat": 4,
 "nbformat_minor": 2
}
